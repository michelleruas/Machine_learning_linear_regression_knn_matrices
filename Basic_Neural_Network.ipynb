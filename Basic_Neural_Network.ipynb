{
  "nbformat": 4,
  "nbformat_minor": 0,
  "metadata": {
    "colab": {
      "name": "Basic Neural Network.ipynb",
      "provenance": [],
      "authorship_tag": "ABX9TyN5/RffYM7ZVcKOcBwvrMkX",
      "include_colab_link": true
    },
    "kernelspec": {
      "name": "python3",
      "display_name": "Python 3"
    }
  },
  "cells": [
    {
      "cell_type": "markdown",
      "metadata": {
        "id": "view-in-github",
        "colab_type": "text"
      },
      "source": [
        "<a href=\"https://colab.research.google.com/github/michelleruas/Neural_Networks/blob/master/Basic_Neural_Network.ipynb\" target=\"_parent\"><img src=\"https://colab.research.google.com/assets/colab-badge.svg\" alt=\"Open In Colab\"/></a>"
      ]
    },
    {
      "cell_type": "markdown",
      "metadata": {
        "id": "lieHN6GibExR",
        "colab_type": "text"
      },
      "source": [
        "# Basic Neural Network\n",
        "\n",
        "We want to give a neural network the length and width of petals for it to decide which colour flower it is from. \n",
        "\n",
        "We want to minimise the cost function in order to improve our model.\n",
        "Squared error:\n",
        "cost funtion = (prediction - target)2 "
      ]
    },
    {
      "cell_type": "code",
      "metadata": {
        "id": "kLAipWcYcC3V",
        "colab_type": "code",
        "colab": {}
      },
      "source": [
        "import pandas as pd\n",
        "import numpy as np\n",
        "\n",
        "d = {'length': [3, 2,4,5,3.5,2,5.5,1,4.5], 'width': [1.5,1,1.5,1,0.5,0.5,1,1,1]}\n",
        "df = pd.DataFrame(data=d)\n",
        "\n",
        "\n",
        "#Sigmoid returning value between 0 and 1\n",
        "def sigmoid(x):\n",
        "  return 1 / (1 + np.exp(-x))\n",
        "\n",
        "#Neural network, taking in values, weights and bias\n",
        "def NN(m1, m2, w1, w2, b):\n",
        "  z = w1+m1 * w2*m2 + b\n",
        "  return sigmoid(z)\n"
      ],
      "execution_count": 22,
      "outputs": []
    },
    {
      "cell_type": "code",
      "metadata": {
        "id": "zy1gaGd1ga2P",
        "colab_type": "code",
        "colab": {
          "base_uri": "https://localhost:8080/",
          "height": 67
        },
        "outputId": "62ba6996-9604-4f22-f34c-868dcee8a126"
      },
      "source": [
        "w1 = np.random.rand()\n",
        "w2 = np.random.rand()\n",
        "b = np.random.rand()\n",
        "\n",
        "print(w1)\n",
        "print(w2)\n",
        "print(b)"
      ],
      "execution_count": 23,
      "outputs": [
        {
          "output_type": "stream",
          "text": [
            "0.6000204258750343\n",
            "0.08621227664302222\n",
            "0.7514162404310755\n"
          ],
          "name": "stdout"
        }
      ]
    },
    {
      "cell_type": "code",
      "metadata": {
        "id": "mQQn5VmBdO-p",
        "colab_type": "code",
        "colab": {
          "base_uri": "https://localhost:8080/",
          "height": 50
        },
        "outputId": "f6a6a1a6-3836-46ae-cbfb-f54a4cf9c536"
      },
      "source": [
        "print(nn(3,1.5,w1,w2,b))\n",
        "print(nn(2,1,w1,w2,b))"
      ],
      "execution_count": 26,
      "outputs": [
        {
          "output_type": "stream",
          "text": [
            "0.8506098104197729\n",
            "0.8211063612480197\n"
          ],
          "name": "stdout"
        }
      ]
    },
    {
      "cell_type": "code",
      "metadata": {
        "id": "2ieUCpGbduJZ",
        "colab_type": "code",
        "colab": {}
      },
      "source": [
        "#Cost Function\n",
        "def cost(b):\n",
        "  return (b-4)**2"
      ],
      "execution_count": 27,
      "outputs": []
    },
    {
      "cell_type": "code",
      "metadata": {
        "id": "DshJc-sbjz9Y",
        "colab_type": "code",
        "colab": {}
      },
      "source": [
        "def num_slope(b):\n",
        "  h = 0.0001\n",
        "  return (cost(b+h) - cost(b))/h"
      ],
      "execution_count": 31,
      "outputs": []
    },
    {
      "cell_type": "code",
      "metadata": {
        "id": "GuFAoTv1j0q8",
        "colab_type": "code",
        "colab": {}
      },
      "source": [
        "def slope(b):\n",
        "  return 2 * (b-4)"
      ],
      "execution_count": 33,
      "outputs": []
    },
    {
      "cell_type": "code",
      "metadata": {
        "id": "jtJQbaVnkN3Y",
        "colab_type": "code",
        "colab": {
          "base_uri": "https://localhost:8080/",
          "height": 34
        },
        "outputId": "dc56cc78-83ca-4648-c349-3f6924b27786"
      },
      "source": [
        "#Apply the slope to minimise cost and take b to the target\n",
        "\n",
        "b = b -0.1*slope(b)\n",
        "print(b)"
      ],
      "execution_count": 39,
      "outputs": [
        {
          "output_type": "stream",
          "text": [
            "7.2\n"
          ],
          "name": "stdout"
        }
      ]
    },
    {
      "cell_type": "code",
      "metadata": {
        "id": "w4LCWD4CkqLr",
        "colab_type": "code",
        "colab": {
          "base_uri": "https://localhost:8080/",
          "height": 34
        },
        "outputId": "90fdfe4e-cae5-4a2b-91d5-7cb4ed18a335"
      },
      "source": [
        "b = b -0.1*slope(b)\n",
        "print(b)"
      ],
      "execution_count": 40,
      "outputs": [
        {
          "output_type": "stream",
          "text": [
            "6.5600000000000005\n"
          ],
          "name": "stdout"
        }
      ]
    },
    {
      "cell_type": "code",
      "metadata": {
        "id": "pfakDCixkutW",
        "colab_type": "code",
        "colab": {
          "base_uri": "https://localhost:8080/",
          "height": 34
        },
        "outputId": "6d59d935-3a67-4253-af47-0cd088643af3"
      },
      "source": [
        "b = b -0.1*slope(b)\n",
        "print(b)"
      ],
      "execution_count": 41,
      "outputs": [
        {
          "output_type": "stream",
          "text": [
            "6.048\n"
          ],
          "name": "stdout"
        }
      ]
    },
    {
      "cell_type": "code",
      "metadata": {
        "id": "sNdJcfYAk0yN",
        "colab_type": "code",
        "colab": {
          "base_uri": "https://localhost:8080/",
          "height": 353
        },
        "outputId": "897805a2-c32f-4374-b36e-4ba785b6e1be"
      },
      "source": [
        "b = 6\n",
        "\n",
        "for i in range(20):\n",
        "  b = b -0.1*slope(b)\n",
        "  print(b)"
      ],
      "execution_count": 44,
      "outputs": [
        {
          "output_type": "stream",
          "text": [
            "5.6\n",
            "5.279999999999999\n",
            "5.023999999999999\n",
            "4.8191999999999995\n",
            "4.65536\n",
            "4.524288\n",
            "4.4194304\n",
            "4.33554432\n",
            "4.268435456000001\n",
            "4.2147483648\n",
            "4.17179869184\n",
            "4.137438953472\n",
            "4.1099511627776\n",
            "4.08796093022208\n",
            "4.070368744177664\n",
            "4.056294995342131\n",
            "4.045035996273705\n",
            "4.036028797018964\n",
            "4.028823037615171\n",
            "4.023058430092137\n"
          ],
          "name": "stdout"
        }
      ]
    },
    {
      "cell_type": "code",
      "metadata": {
        "id": "zz1Optu8k5wI",
        "colab_type": "code",
        "colab": {
          "base_uri": "https://localhost:8080/",
          "height": 353
        },
        "outputId": "b112bc65-93ce-496d-8429-51a92113f371"
      },
      "source": [
        "b = -20\n",
        "\n",
        "for i in range(20):\n",
        "  b = b -0.1*slope(b)\n",
        "  print(b)"
      ],
      "execution_count": 45,
      "outputs": [
        {
          "output_type": "stream",
          "text": [
            "-15.2\n",
            "-11.36\n",
            "-8.288\n",
            "-5.8304\n",
            "-3.8643199999999998\n",
            "-2.2914559999999997\n",
            "-1.0331647999999996\n",
            "-0.02653183999999964\n",
            "0.7787745280000004\n",
            "1.4230196224000005\n",
            "1.9384156979200005\n",
            "2.3507325583360004\n",
            "2.6805860466688003\n",
            "2.94446883733504\n",
            "3.155575069868032\n",
            "3.3244600558944257\n",
            "3.4595680447155406\n",
            "3.5676544357724325\n",
            "3.654123548617946\n",
            "3.723298838894357\n"
          ],
          "name": "stdout"
        }
      ]
    },
    {
      "cell_type": "code",
      "metadata": {
        "id": "fzZ9951ylBsQ",
        "colab_type": "code",
        "colab": {}
      },
      "source": [
        ""
      ],
      "execution_count": null,
      "outputs": []
    }
  ]
}
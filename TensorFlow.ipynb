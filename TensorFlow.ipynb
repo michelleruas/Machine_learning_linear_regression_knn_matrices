{
  "nbformat": 4,
  "nbformat_minor": 0,
  "metadata": {
    "colab": {
      "name": "TensorFlow.ipynb",
      "provenance": [],
      "authorship_tag": "ABX9TyMi2kBzzE9aQw5cMmfoenfG",
      "include_colab_link": true
    },
    "kernelspec": {
      "name": "python3",
      "display_name": "Python 3"
    }
  },
  "cells": [
    {
      "cell_type": "markdown",
      "metadata": {
        "id": "view-in-github",
        "colab_type": "text"
      },
      "source": [
        "<a href=\"https://colab.research.google.com/github/michelleruas/Neural_Networks/blob/master/TensorFlow.ipynb\" target=\"_parent\"><img src=\"https://colab.research.google.com/assets/colab-badge.svg\" alt=\"Open In Colab\"/></a>"
      ]
    },
    {
      "cell_type": "markdown",
      "metadata": {
        "id": "928JLs6qeGYm",
        "colab_type": "text"
      },
      "source": [
        "# TensorFlow\n",
        "\n",
        "One of the biggest machine learning open source learning libraries, maintained by Google.\n",
        "We will use this to build models that can do:\n",
        "- Image Classification\n",
        "- Data Clustering\n",
        "- Regression\n",
        "- Reinforcement Learning\n",
        "- Natural Language Processing"
      ]
    },
    {
      "cell_type": "code",
      "metadata": {
        "id": "eZRFxiXCeZrH",
        "colab_type": "code",
        "colab": {}
      },
      "source": [
        ""
      ],
      "execution_count": null,
      "outputs": []
    }
  ]
}
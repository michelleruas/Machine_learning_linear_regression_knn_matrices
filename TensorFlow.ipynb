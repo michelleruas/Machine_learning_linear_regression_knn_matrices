{
  "nbformat": 4,
  "nbformat_minor": 0,
  "metadata": {
    "colab": {
      "name": "TensorFlow.ipynb",
      "provenance": [],
      "authorship_tag": "ABX9TyPpWrdh2LHkJPDNqBqUuY2V",
      "include_colab_link": true
    },
    "kernelspec": {
      "name": "python3",
      "display_name": "Python 3"
    }
  },
  "cells": [
    {
      "cell_type": "markdown",
      "metadata": {
        "id": "view-in-github",
        "colab_type": "text"
      },
      "source": [
        "<a href=\"https://colab.research.google.com/github/michelleruas/Neural_Networks/blob/master/TensorFlow.ipynb\" target=\"_parent\"><img src=\"https://colab.research.google.com/assets/colab-badge.svg\" alt=\"Open In Colab\"/></a>"
      ]
    },
    {
      "cell_type": "markdown",
      "metadata": {
        "id": "928JLs6qeGYm",
        "colab_type": "text"
      },
      "source": [
        "# TensorFlow\n",
        "\n",
        "One of the biggest machine learning open source learning libraries, maintained by Google.\n",
        "We will use this to build models that can do:\n",
        "- Image Classification\n",
        "- Data Clustering\n",
        "- Regression\n",
        "- Reinforcement Learning\n",
        "- Natural Language Processing\n",
        "\n",
        "Tensorflow works by building a graph of defined computations. Nothing is computed or stored in this graph. A session allows parts or all of the graph to be executed.\n",
        "\n",
        "Each tensor has a data type and a shape."
      ]
    },
    {
      "cell_type": "code",
      "metadata": {
        "id": "eZRFxiXCeZrH",
        "colab_type": "code",
        "colab": {}
      },
      "source": [
        "string = tf.Variable(\"this is a string\", tf.string)\n",
        "number = tf.Variable(324, tf.int16)\n",
        "floating = tf.Variable(3.567, tf.float64)"
      ],
      "execution_count": 4,
      "outputs": []
    },
    {
      "cell_type": "code",
      "metadata": {
        "id": "6zN5SSg7gEyb",
        "colab_type": "code",
        "colab": {
          "base_uri": "https://localhost:8080/",
          "height": 34
        },
        "outputId": "71f3877d-1c6a-45b1-dd77-8eba347ce2b1"
      },
      "source": [
        "string"
      ],
      "execution_count": 5,
      "outputs": [
        {
          "output_type": "execute_result",
          "data": {
            "text/plain": [
              "<tf.Variable 'Variable:0' shape=() dtype=string, numpy=b'this is a string'>"
            ]
          },
          "metadata": {
            "tags": []
          },
          "execution_count": 5
        }
      ]
    },
    {
      "cell_type": "code",
      "metadata": {
        "id": "fylujrshgFnB",
        "colab_type": "code",
        "colab": {}
      },
      "source": [
        "import tensorflow as tf\n"
      ],
      "execution_count": 3,
      "outputs": []
    },
    {
      "cell_type": "code",
      "metadata": {
        "id": "R6hzLUATgN39",
        "colab_type": "code",
        "colab": {}
      },
      "source": [
        "rank1_tensor = tf.Variable([\"Test\", \"Ok\", \"Tim\"], tf.string)"
      ],
      "execution_count": 6,
      "outputs": []
    },
    {
      "cell_type": "code",
      "metadata": {
        "id": "LT_t2ApKgx_o",
        "colab_type": "code",
        "colab": {
          "base_uri": "https://localhost:8080/",
          "height": 34
        },
        "outputId": "59e23654-4c34-4666-b484-0b7af1ab2fe4"
      },
      "source": [
        "rank1_tensor"
      ],
      "execution_count": 7,
      "outputs": [
        {
          "output_type": "execute_result",
          "data": {
            "text/plain": [
              "<tf.Variable 'Variable:0' shape=(3,) dtype=string, numpy=array([b'Test', b'Ok', b'Tim'], dtype=object)>"
            ]
          },
          "metadata": {
            "tags": []
          },
          "execution_count": 7
        }
      ]
    },
    {
      "cell_type": "code",
      "metadata": {
        "id": "A-jJ6IRggzho",
        "colab_type": "code",
        "colab": {}
      },
      "source": [
        ""
      ],
      "execution_count": null,
      "outputs": []
    },
    {
      "cell_type": "markdown",
      "metadata": {
        "id": "7wFXOJQVg8vb",
        "colab_type": "text"
      },
      "source": [
        "# Rank / Degree of Tensor\n",
        "Rank 0 = Scalar\n",
        "\n",
        "Rank 1 = One list\n",
        "\n",
        "Rank 2 = Two lists / matrices"
      ]
    },
    {
      "cell_type": "code",
      "metadata": {
        "id": "aSyTUVmMg9Es",
        "colab_type": "code",
        "colab": {
          "base_uri": "https://localhost:8080/",
          "height": 34
        },
        "outputId": "a81d69ec-ad0b-4c50-b77c-97a2ac4de324"
      },
      "source": [
        "tf.rank(rank1_tensor)"
      ],
      "execution_count": 8,
      "outputs": [
        {
          "output_type": "execute_result",
          "data": {
            "text/plain": [
              "<tf.Tensor: shape=(), dtype=int32, numpy=1>"
            ]
          },
          "metadata": {
            "tags": []
          },
          "execution_count": 8
        }
      ]
    },
    {
      "cell_type": "code",
      "metadata": {
        "id": "KEdxcX_ThCRE",
        "colab_type": "code",
        "colab": {}
      },
      "source": [
        ""
      ],
      "execution_count": null,
      "outputs": []
    }
  ]
}